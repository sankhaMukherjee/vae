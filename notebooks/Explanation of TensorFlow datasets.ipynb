{
 "cells": [
  {
   "cell_type": "code",
   "execution_count": 1,
   "id": "cd3b6b71",
   "metadata": {
    "ExecuteTime": {
     "end_time": "2021-04-30T04:26:00.765629Z",
     "start_time": "2021-04-30T04:25:59.803276Z"
    }
   },
   "outputs": [],
   "source": [
    "import os\n",
    "os.environ['TF_CPP_MIN_LOG_LEVEL'] = '3' \n",
    "import tensorflow as tf\n",
    "import numpy as np"
   ]
  },
  {
   "cell_type": "code",
   "execution_count": 2,
   "id": "45362d90",
   "metadata": {
    "ExecuteTime": {
     "end_time": "2021-04-30T04:26:01.395067Z",
     "start_time": "2021-04-30T04:26:01.383156Z"
    }
   },
   "outputs": [
    {
     "name": "stdout",
     "output_type": "stream",
     "text": [
      "/home/sankha/Documents/programs/allDL/vae\n"
     ]
    }
   ],
   "source": [
    "cd .."
   ]
  },
  {
   "cell_type": "code",
   "execution_count": 3,
   "id": "cf3f8fb7",
   "metadata": {
    "ExecuteTime": {
     "end_time": "2021-04-30T04:26:02.382565Z",
     "start_time": "2021-04-30T04:26:02.335209Z"
    }
   },
   "outputs": [],
   "source": [
    "from utils import dataUtils as dU"
   ]
  },
  {
   "cell_type": "code",
   "execution_count": 4,
   "id": "b4c06b3b",
   "metadata": {
    "ExecuteTime": {
     "end_time": "2021-04-30T04:26:05.806659Z",
     "start_time": "2021-04-30T04:26:05.047499Z"
    }
   },
   "outputs": [],
   "source": [
    "batchSize = 5\n",
    "\n",
    "(x_train, y_train), (x_test, y_test) = dU.getMNISTData()\n",
    "y_train = y_train.reshape(-1, 1).astype( np.float32 )\n",
    "y_test  = y_test.reshape(-1, 1).astype( np.float32 )\n",
    "\n",
    "train_dataset = tf.data.Dataset.from_tensor_slices((x_train, y_train))\n",
    "train_dataset = train_dataset.shuffle(buffer_size=2048).batch(batchSize)"
   ]
  },
  {
   "cell_type": "code",
   "execution_count": 5,
   "id": "fb48d8b1",
   "metadata": {
    "ExecuteTime": {
     "end_time": "2021-04-30T04:28:31.526660Z",
     "start_time": "2021-04-30T04:28:31.368094Z"
    }
   },
   "outputs": [
    {
     "name": "stdout",
     "output_type": "stream",
     "text": [
      "Inputs: x -> [(5, 784)<dtype: 'float32'>] y -> [(5, 1)<dtype: 'float32'>]\n",
      "Output: z -> [(5, 785)<dtype: 'float32'>]\n",
      "Inputs: x -> [(5, 784)<dtype: 'float32'>] y -> [(5, 1)<dtype: 'float32'>]\n",
      "Output: z -> [(5, 785)<dtype: 'float32'>]\n",
      "Inputs: x -> [(5, 784)<dtype: 'float32'>] y -> [(5, 1)<dtype: 'float32'>]\n",
      "Output: z -> [(5, 785)<dtype: 'float32'>]\n",
      "Inputs: x -> [(5, 784)<dtype: 'float32'>] y -> [(5, 1)<dtype: 'float32'>]\n",
      "Output: z -> [(5, 785)<dtype: 'float32'>]\n"
     ]
    }
   ],
   "source": [
    "for i, (x, y) in enumerate(train_dataset):\n",
    "    if i > 3: break\n",
    "    z = tf.concat( [x, y], 1 )\n",
    "    print(f'Inputs: x -> [{x.shape}{x.dtype}] y -> [{y.shape}{y.dtype}]')\n",
    "    print(f'Output: z -> [{z.shape}{z.dtype}]')"
   ]
  },
  {
   "cell_type": "code",
   "execution_count": null,
   "id": "8a0f1a09",
   "metadata": {},
   "outputs": [],
   "source": []
  }
 ],
 "metadata": {
  "hide_input": false,
  "kernelspec": {
   "display_name": "Python 3",
   "language": "python",
   "name": "python3"
  },
  "language_info": {
   "codemirror_mode": {
    "name": "ipython",
    "version": 3
   },
   "file_extension": ".py",
   "mimetype": "text/x-python",
   "name": "python",
   "nbconvert_exporter": "python",
   "pygments_lexer": "ipython3",
   "version": "3.8.5"
  },
  "toc": {
   "base_numbering": 1,
   "nav_menu": {},
   "number_sections": true,
   "sideBar": true,
   "skip_h1_title": false,
   "title_cell": "Table of Contents",
   "title_sidebar": "Contents",
   "toc_cell": false,
   "toc_position": {},
   "toc_section_display": true,
   "toc_window_display": false
  }
 },
 "nbformat": 4,
 "nbformat_minor": 5
}
